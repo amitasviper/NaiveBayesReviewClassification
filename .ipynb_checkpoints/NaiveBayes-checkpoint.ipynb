{
 "cells": [
  {
   "cell_type": "code",
   "execution_count": null,
   "metadata": {},
   "outputs": [],
   "source": []
  },
  {
   "cell_type": "code",
   "execution_count": 74,
   "metadata": {},
   "outputs": [],
   "source": [
    "import os\n",
    "import sys\n",
    "import numpy as np\n",
    "\n",
    "def getFileContents(filename):\n",
    "    data = None\n",
    "    with open(filename, 'r') as f:\n",
    "        data = f.readlines()\n",
    "    return data\n",
    "\n",
    "def getFileFromCommandLine():\n",
    "    filename = sys.argv[1]\n",
    "    return getFileContents(filename)\n",
    "\n",
    "class NaiveBayes(object):\n",
    "    def __init__(self, data):\n",
    "        self.raw_data = data\n",
    "        self.targets = []\n",
    "        self.word_to_index = {}\n",
    "        self.target_to_index = {}\n",
    "        self.word_to_class_map = []\n",
    "        self.total_words = 0\n",
    "        self.index_to_word = {}\n",
    "        self.index_to_target = {}\n",
    "        \n",
    "    def splitClassNData(self, line):\n",
    "        tokens = line.strip().split(' ')\n",
    "        data_id = tokens[0]\n",
    "        truthfulness = tokens[1]\n",
    "        emotion = tokens[2]\n",
    "        data = tokens[3:]\n",
    "        return (data_id, truthfulness, emotion, data)\n",
    "    \n",
    "    def reverseMapping(self):\n",
    "        for word, index in self.word_to_index.iteritems():\n",
    "            self.index_to_word[index] = word\n",
    "        for target_name, index in self.target_to_index.iteritems():\n",
    "            self.index_to_target[index] = target_name\n",
    "    \n",
    "    \n",
    "    def addWordsToClass(self, target_names, words):\n",
    "        for word in words:\n",
    "            try:\n",
    "                word_index = self.word_to_index[word]\n",
    "            except KeyError as ex:\n",
    "                #New word is encountered\n",
    "                word_index = self.total_words\n",
    "                self.word_to_index[word] = word_index\n",
    "                self.word_to_class_map.append([0, 0, 0, 0])\n",
    "                self.total_words += 1\n",
    "                \n",
    "            for target_name in target_names:\n",
    "                self.word_to_class_map[word_index][self.getTargetIndexFromName(target_name)] += 1\n",
    "        \n",
    "    def getTargetIndexFromName(self, target_name):\n",
    "        try:\n",
    "            return self.target_to_index[target_name]\n",
    "        except KeyError as ex:\n",
    "            print \"Exception Raise : Target Name Not Found.\", target_name\n",
    "            self.target_to_index[target_name] = len(self.target_to_index.keys())\n",
    "            return self.target_to_index[target_name]\n",
    "        \n",
    "    def smoothObservations(self):\n",
    "        self.word_to_class_map = self.word_to_class_map + 1\n",
    "    \n",
    "    def calculateProbabilities(self):\n",
    "        self.word_to_class_probabilities = (self.word_to_class_map*1.0)/self.word_to_class_map.sum(axis=0, keepdims=True)\n",
    "        \n",
    "    def fit(self):\n",
    "        for line in self.raw_data:\n",
    "            data_id, truthfulness, emotion, words = self.splitClassNData(line)\n",
    "            self.addWordsToClass([truthfulness, emotion], words)\n",
    "        self.reverseMapping()\n",
    "        self.word_to_class_map = np.array(self.word_to_class_map)\n",
    "            \n",
    "            \n",
    "            "
   ]
  },
  {
   "cell_type": "code",
   "execution_count": 75,
   "metadata": {},
   "outputs": [],
   "source": [
    "if __name__ == '__main__':\n",
    "#     tagged_data = getFileFromCommandLine()\n",
    "    tagged_data = getFileContents('data/train-labeled.txt')\n",
    "    model = NaiveBayes(tagged_data)\n",
    "    "
   ]
  },
  {
   "cell_type": "code",
   "execution_count": 76,
   "metadata": {},
   "outputs": [
    {
     "name": "stdout",
     "output_type": "stream",
     "text": [
      "Exception Raise : Target Name Not Found. Fake\n",
      "Exception Raise : Target Name Not Found. Neg\n",
      "Exception Raise : Target Name Not Found. True\n",
      "Exception Raise : Target Name Not Found. Pos\n"
     ]
    }
   ],
   "source": [
    "model.fit()"
   ]
  },
  {
   "cell_type": "code",
   "execution_count": 77,
   "metadata": {},
   "outputs": [
    {
     "data": {
      "text/plain": [
       "array([1, 2, 1, 0])"
      ]
     },
     "execution_count": 77,
     "metadata": {},
     "output_type": "execute_result"
    }
   ],
   "source": [
    "model.word_to_class_map[955]"
   ]
  },
  {
   "cell_type": "code",
   "execution_count": 78,
   "metadata": {},
   "outputs": [
    {
     "data": {
      "text/plain": [
       "955"
      ]
     },
     "execution_count": 78,
     "metadata": {},
     "output_type": "execute_result"
    }
   ],
   "source": [
    "model.word_to_index['Amit']"
   ]
  },
  {
   "cell_type": "code",
   "execution_count": 79,
   "metadata": {},
   "outputs": [],
   "source": [
    "am = np.array([[1, 2, 3, 4], [4, 5, 6, 2]])"
   ]
  },
  {
   "cell_type": "code",
   "execution_count": 80,
   "metadata": {},
   "outputs": [
    {
     "data": {
      "text/plain": [
       "array([[2, 3, 4, 5],\n",
       "       [5, 6, 7, 3]])"
      ]
     },
     "execution_count": 80,
     "metadata": {},
     "output_type": "execute_result"
    }
   ],
   "source": [
    "am + 1"
   ]
  },
  {
   "cell_type": "code",
   "execution_count": 81,
   "metadata": {},
   "outputs": [
    {
     "data": {
      "text/plain": [
       "array([[1, 2, 3, 4],\n",
       "       [4, 5, 6, 2]])"
      ]
     },
     "execution_count": 81,
     "metadata": {},
     "output_type": "execute_result"
    }
   ],
   "source": [
    "am"
   ]
  },
  {
   "cell_type": "code",
   "execution_count": 83,
   "metadata": {},
   "outputs": [
    {
     "data": {
      "text/plain": [
       "array([[ 0.2       ,  0.28571429,  0.33333333,  0.66666667],\n",
       "       [ 0.8       ,  0.71428571,  0.66666667,  0.33333333]])"
      ]
     },
     "execution_count": 83,
     "metadata": {},
     "output_type": "execute_result"
    }
   ],
   "source": [
    "am*1.0/am.sum(axis=0, keepdims=True)"
   ]
  },
  {
   "cell_type": "code",
   "execution_count": null,
   "metadata": {},
   "outputs": [],
   "source": []
  }
 ],
 "metadata": {
  "kernelspec": {
   "display_name": "Python 2",
   "language": "python",
   "name": "python2"
  },
  "language_info": {
   "codemirror_mode": {
    "name": "ipython",
    "version": 2
   },
   "file_extension": ".py",
   "mimetype": "text/x-python",
   "name": "python",
   "nbconvert_exporter": "python",
   "pygments_lexer": "ipython2",
   "version": "2.7.14"
  }
 },
 "nbformat": 4,
 "nbformat_minor": 2
}
