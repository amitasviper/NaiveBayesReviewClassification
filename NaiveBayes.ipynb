{
 "cells": [
  {
   "cell_type": "code",
   "execution_count": 339,
   "metadata": {},
   "outputs": [],
   "source": [
    "import os\n",
    "import sys\n",
    "import numpy as np\n",
    "\n",
    "def getFileContents(filename):\n",
    "    data = None\n",
    "    with open(filename, 'r') as f:\n",
    "        data = f.readlines()\n",
    "    return data\n",
    "\n",
    "def getFileFromCommandLine():\n",
    "    filename = sys.argv[1]\n",
    "    return getFileContents(filename)\n",
    "\n",
    "class NaiveBayes(object):\n",
    "    def __init__(self, data):\n",
    "        self.raw_data = data\n",
    "        self.targets = []\n",
    "        self.word_to_index = {}\n",
    "        self.target_to_index = {'True': 0, 'Fake': 1, 'Pos': 2, 'Neg': 3}\n",
    "        self.word_to_class_map = []\n",
    "        self.total_words = 0\n",
    "        self.index_to_word = {}\n",
    "        self.index_to_target = {}\n",
    "        self.target_counts = [0, 0, 0, 0]\n",
    "        self.word_to_class_probabilities = None\n",
    "        self.target_probabilities = None\n",
    "        \n",
    "    def clean_sentence(self, sentence):\n",
    "        chars_to_remove = ['.', '!', '?', \"'\", '@', '#', '$', '%',\\\n",
    "                           '^', '&', ',', '(', ')', '-', '_', '+',\\\n",
    "                           '=', '<', '>', ';', ':', '\"', '[', ']',\\\n",
    "                           '\\\\', '|', '~', '0', '1', '2', '3', '4',\\\n",
    "                           '5', '6', '7', '8', '9']\n",
    "        sentence = sentence.lower()\n",
    "        for char in chars_to_remove:\n",
    "            sentence = sentence.replace(char, ' ')\n",
    "        words = sentence.split()\n",
    "        words = [word for word in words if len(word) > 4]\n",
    "#         words = [word if not word.endswith('ed') else word[:-2] for word in words]\n",
    "#         words = [word if not word.endswith('ing') else word[:-3] for word in words]\n",
    "        return words\n",
    "    \n",
    "    def splitClassNData(self, line):\n",
    "        tokens = line.strip().split(' ')\n",
    "        data_id = tokens[0]\n",
    "        truthfulness = tokens[1]\n",
    "        emotion = tokens[2]\n",
    "        data = ' '.join(tokens[3:])\n",
    "        data = self.clean_sentence(data)\n",
    "        return (data_id, truthfulness, emotion, data)\n",
    "    \n",
    "    def reverseMapping(self):\n",
    "        for word, index in self.word_to_index.iteritems():\n",
    "            self.index_to_word[index] = word\n",
    "        for target_name, index in self.target_to_index.iteritems():\n",
    "            self.index_to_target[index] = target_name\n",
    "    \n",
    "    \n",
    "    def addWordsToClass(self, target_names, words):\n",
    "        for word in words:\n",
    "            try:\n",
    "                word_index = self.word_to_index[word]\n",
    "            except KeyError as ex:\n",
    "                #New word is encountered\n",
    "                word_index = self.total_words\n",
    "                self.word_to_index[word] = word_index\n",
    "                self.word_to_class_map.append([0, 0, 0, 0])\n",
    "                self.total_words += 1\n",
    "                \n",
    "            for target_name in target_names:\n",
    "                self.word_to_class_map[word_index][self.getTargetIndexFromName(target_name)] += 1\n",
    "        \n",
    "    def getTargetIndexFromName(self, target_name):\n",
    "        return self.target_to_index[target_name]\n",
    "        \n",
    "    def smoothObservations(self):\n",
    "        self.word_to_class_map = self.word_to_class_map + 1\n",
    "    \n",
    "    def calculateProbabilities(self):\n",
    "        self.word_to_class_probabilities = (self.word_to_class_map*1.0)/self.word_to_class_map.sum(axis=0, keepdims=True)\n",
    "        self.target_probabilities = np.array(self.target_counts, dtype=np.float64) / len(self.raw_data)\n",
    "        print self.target_probabilities\n",
    "    \n",
    "    def getSentenceProbabilityWithClass(self, sentence):\n",
    "        prob_true = self.target_probabilities[0]\n",
    "        prob_fake = self.target_probabilities[1]\n",
    "        prob_pos = self.target_probabilities[2]\n",
    "        prob_neg = self.target_probabilities[3]\n",
    "        \n",
    "        sentence_id = sentence.strip().split(' ')[0]\n",
    "        words = self.clean_sentence(sentence)\n",
    "        if sentence_id == 'iL7CkJ5':\n",
    "            print ' '.join(words)\n",
    "        for word in words[1:]:\n",
    "            try:\n",
    "                word_index = self.word_to_index[word]\n",
    "            except KeyError as ex:\n",
    "                continue\n",
    "            prob_true *= self.word_to_class_probabilities[word_index][0]\n",
    "            prob_fake *= self.word_to_class_probabilities[word_index][1]\n",
    "            prob_pos *= self.word_to_class_probabilities[word_index][2]\n",
    "            prob_neg *= self.word_to_class_probabilities[word_index][3]\n",
    "            \n",
    "        truthfulness = 'True' if prob_true > prob_fake else 'Fake'\n",
    "        emotion = 'Pos' if prob_pos > prob_neg else 'Neg'\n",
    "        \n",
    "        return '%s %s %s'%(sentence_id, truthfulness, emotion)\n",
    "    \n",
    "    def predict(self, untagged_data):\n",
    "        output = []\n",
    "        for sentence in untagged_data:\n",
    "            output.append('%s\\n'%(self.getSentenceProbabilityWithClass(sentence)))\n",
    "        return output\n",
    "            \n",
    "    \n",
    "    def incrementTargetCounts(self, target_name):\n",
    "        self.target_counts[self.target_to_index[target_name]] += 1\n",
    "        \n",
    "    def fit(self):\n",
    "        for line in self.raw_data:\n",
    "            data_id, truthfulness, emotion, words = self.splitClassNData(line)\n",
    "            self.addWordsToClass([truthfulness, emotion], words)\n",
    "            self.incrementTargetCounts(truthfulness)\n",
    "            self.incrementTargetCounts(emotion)\n",
    "            \n",
    "        self.reverseMapping()\n",
    "        self.word_to_class_map = np.array(self.word_to_class_map, dtype=np.float64)\n",
    "        self.smoothObservations()\n",
    "        self.calculateProbabilities()\n",
    "    \n",
    "            \n",
    "            "
   ]
  },
  {
   "cell_type": "code",
   "execution_count": 340,
   "metadata": {},
   "outputs": [],
   "source": [
    "def computeAccuracy(predicted):\n",
    "    total = 0\n",
    "    correct = 0\n",
    "    index = 0\n",
    "    expected = getFileContents('data/dev-key.txt')\n",
    "    for exp, pred in zip(expected, predicted):\n",
    "        if exp == pred:\n",
    "            correct += 1\n",
    "#             print exp, pred\n",
    "        else:\n",
    "            if exp.split()[0] == 'iL7CkJ5':\n",
    "                print untagged_data[index]\n",
    "                print exp.strip(), pred.strip()\n",
    "#             print untagged_data[index], '\\n\\n\\n'\n",
    "            pass\n",
    "        total += 1\n",
    "        index += 1\n",
    "    return \"Accuracy %f %%\"%(correct*100.0/total)"
   ]
  },
  {
   "cell_type": "code",
   "execution_count": 341,
   "metadata": {},
   "outputs": [
    {
     "name": "stdout",
     "output_type": "stream",
     "text": [
      "[ 0.5  0.5  0.5  0.5]\n",
      "stayed hyatt regency chicago first above expectations night rooms comfortable great through travelzoo night aware parking night first night there valet yelling couldn where point drive around minutes looking closed parking garages saturday evening finally found would blocks hotel outside luggage carry service hotel inside apparently running nightclub thier lobby called harddrive noisy issue controls broken first night second night blazing there degrees couldn sleep miserable engineer determined there definately problem opened window floors never enough there window night below night window being would another either checkout monday morning after taxes second which internet parking billed reciepts wednesday online banking checking account hyatt charged another charge almost reciepts checkout furious called hotel nothing resolved phone treated something another additional authorization falls settle could waited friday check account again charges cleared should correct original amounts still authorizations incorrect amounts charged additional furious guess hyatt doesn wednesday yourself hassle hotel unless extra money\n",
      "960\n"
     ]
    }
   ],
   "source": [
    "if __name__ == '__main__':\n",
    "#     tagged_data = getFileFromCommandLine()\n",
    "    tagged_data = getFileContents('data/train-labeled.txt')\n",
    "    model = NaiveBayes(tagged_data)\n",
    "    model.fit()\n",
    "    untagged_data = getFileContents('data/dev-text.txt')\n",
    "    output = model.predict(untagged_data)\n",
    "    print len(model.raw_data)\n",
    "#     print model.word_to_class_probabilities"
   ]
  },
  {
   "cell_type": "code",
   "execution_count": 342,
   "metadata": {},
   "outputs": [
    {
     "name": "stdout",
     "output_type": "stream",
     "text": [
      "iL7CkJ5 This was the 2nd time that we have stayed at the Hyatt Regency Chicago. The first time was far above our expectations for a $69/per night room. The rooms are very nice, and the beds are comfortable. This time we got a great rate through travelzoo @ $104/ night for a room with a view. We were aware of the $41 parking per night. The first night we got there the valet was yelling at us and said that we couldn't park they were full. We had no clue where to park at this point and had to drive around for over 45 minutes looking at closed parking garages. (It was a Saturday evening) Finally found a spot and were told that it would be $38. This was 6 blocks from the hotel. Mind you its -6 outside and we have luggage to carry too. Not very good service for a 5-star hotel. We got inside and apparently they were running a nightclub out of thier lobby, its called the harddrive. That's cool and all, yes it was very noisy but once we got to our room, it wasn't an issue. The HVAC controls to our room were broken. The first night we were ok, but by the second night it was blazing hot in there, 86 degrees. So hot we couldn't sleep. It was miserable. They sent up the \"engineer\" and he determined that there was definately a problem and opened our window, 24 floors up. It never did cool down enough in there we kept that window open all night. It was 5 below that night and the window being open 8\" didn't help. They would not put us in another room either. At checkout, Monday morning, our bill came to $240.43 after taxes for the room. We then had a second bill in which our internet and parking was billed on for $56.65. Cool, I got my reciepts and went on our way. On Wednesday I was on my online banking checking my account, to find that Hyatt charged me $289.03 and another charge of $103.63!!! That is almost $100 more than what the reciepts from checkout say. I was furious, so I called the hotel. Nothing was resolved by my phone call, they treated me as if $100 isn't but something you wipe with. She said give it another day or two and see if the additional authorization falls off. That didn't settle well with me, but what could I do. I waited. Its Friday now. I check on my account again and the charges cleared as they should have with the correct original amounts, and they still have \"authorizations\" on the two incorrect amounts as well. They have charged me an additional $300!!!!!! Im so furious! and guess what... Hyatt doesn't care. They gave me the same [--] line as they did Wednesday. SAVE YOURSELF SOME HASSLE AND DON'T STAY AT THIS HOTEL UNLESS YOU HAVE EXTRA MONEY FOR THEM TO PLAY WITH.\n",
      "\n",
      "iL7CkJ5 True Neg iL7CkJ5 Fake Neg\n"
     ]
    }
   ],
   "source": [
    "accuracy = computeAccuracy(output)"
   ]
  },
  {
   "cell_type": "code",
   "execution_count": 343,
   "metadata": {},
   "outputs": [
    {
     "name": "stdout",
     "output_type": "stream",
     "text": [
      "Accuracy 81.875000 %\n"
     ]
    }
   ],
   "source": [
    "print accuracy"
   ]
  },
  {
   "cell_type": "code",
   "execution_count": null,
   "metadata": {},
   "outputs": [],
   "source": []
  }
 ],
 "metadata": {
  "kernelspec": {
   "display_name": "Python 2",
   "language": "python",
   "name": "python2"
  },
  "language_info": {
   "codemirror_mode": {
    "name": "ipython",
    "version": 2
   },
   "file_extension": ".py",
   "mimetype": "text/x-python",
   "name": "python",
   "nbconvert_exporter": "python",
   "pygments_lexer": "ipython2",
   "version": "2.7.14"
  }
 },
 "nbformat": 4,
 "nbformat_minor": 2
}
